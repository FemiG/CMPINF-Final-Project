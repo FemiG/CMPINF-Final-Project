{
 "cells": [
  {
   "cell_type": "markdown",
   "metadata": {},
   "source": [
    "The metric this group is using to measure the neighbourhoods and areas in the city of pittsburgh is safety. The sub-metrics used are Air Quality, Crime, and Firearm Seizures. Our group number is 7"
   ]
  },
  {
   "cell_type": "code",
   "execution_count": 1,
   "metadata": {},
   "outputs": [],
   "source": [
    "import pandas as pd\n",
    "import numpy as np\n",
    "%matplotlib inline\n",
    "import matplotlib.pyplot as plt\n",
    "\n",
    "Air_Quality = pd.read_csv(\"Allegheny County Air Quality - Daily.csv\", index_col=\"_id\")"
   ]
  },
  {
   "cell_type": "code",
   "execution_count": 2,
   "metadata": {},
   "outputs": [
    {
     "name": "stdout",
     "output_type": "stream",
     "text": [
      "             date                   site parameter  index_value description\n",
      "_id                                                                        \n",
      "77056  2024-02-29        Lawrenceville 2        CO            3        Good\n",
      "77057  2024-02-29          South Fayette     OZONE           36        Good\n",
      "77058  2024-02-29              Liberty 2  PM10_640           17        Good\n",
      "77059  2024-02-29         North Braddock  PM10_640           19        Good\n",
      "77060  2024-02-29             Pittsburgh  PM10_640           15        Good\n",
      "77061  2024-02-29      Harrison Township       NO2           20        Good\n",
      "77062  2024-02-29                Liberty       SO2           17        Good\n",
      "77063  2024-02-29         North Braddock        CO            7        Good\n",
      "77064  2024-02-29           Parkway East        CO            9        Good\n",
      "77065  2024-02-29           Parkway East       NO2           29        Good\n",
      "77066  2024-02-29      Harrison Township     OZONE           31        Good\n",
      "77067  2024-02-29          Lawrenceville     OZONE           33        Good\n",
      "77068  2024-02-29  Glassport High Street      PM10           11        Good\n",
      "77069  2024-02-29                 Avalon  PM25_640           19        Good\n",
      "77070  2024-02-29              Liberty 2  PM25_640           20        Good\n",
      "77071  2024-02-29         North Braddock       SO2            1        Good\n",
      "77072  2024-02-29             Pittsburgh   NO2_500           31        Good\n",
      "77073  2024-02-29         North Braddock  PM25_640           18        Good\n",
      "77074  2024-02-29           Parkway East  PM25_640           18        Good\n",
      "77075  2024-02-29        Lawrenceville 2       SO2            0        Good\n",
      "77076  2024-02-29             Pittsburgh  PM25_640           22        Good\n",
      "77077  2024-02-29               Clairton  PM25_640           15        Good\n"
     ]
    }
   ],
   "source": [
    "date_query_mask = Air_Quality['date'].str.contains('2024-02-29')\n",
    "date_sample = Air_Quality[date_query_mask].iloc[0:60, 0:5]\n",
    "print(date_sample)"
   ]
  },
  {
   "cell_type": "code",
   "execution_count": 3,
   "metadata": {},
   "outputs": [
    {
     "data": {
      "image/png": "[encoded data removed]",
      "text/plain": [
       "<Figure size 432x288 with 1 Axes>"
      ]
     },
     "metadata": {
      "needs_background": "light"
     },
     "output_type": "display_data"
    }
   ],
   "source": [
    "Lawrenceville = [0, 33, 3, 0, 0]\n",
    "North_Braddock = [1, 0, 7, 18, 19]\n",
    "Pittsburgh = [0, 0, 0, 22, 15] \n",
    "Liberty = [17, 0, 0, 20, 17]\n",
    "index = ['SO2', 'OZONE', 'CO','PM25', 'PM10']\n",
    "df = pd.DataFrame({'Lawrenceville': Lawrenceville,'North Braddock': North_Braddock, 'Pittsburgh':Pittsburgh, 'Liberty':Liberty}, index=index)\n",
    "ax = df.plot.bar(rot=1)"
   ]
  },
  {
   "cell_type": "markdown",
   "metadata": {},
   "source": [
    "With the locations listed above Lawrenceville seems like the best neighbourhood to reside in. Since it has the lowest Sulfur Dioxide presence as well as Carbon Monoxide and Ozone in all the areas recorded. With this information it can be concluded that Lawrenceville has the best air quality in the city and thus the best place to live in the city. \n",
    "North Braddock comes in a close second having the 2nd lowest Sulfur Dioxide and Particulate Matter(10 micrometers) in city and tying with Lawrenceville for the lowest Carbon Monoxide levels. \n",
    "Sulfur Dioxide, Ozone, and Carbon Monoxide all have negative effects on the body when inhaled. CO can cause headaches, diziness, and loss of consciousness if breathed in for long periods of time as well as cause brain damage for infants and the elderly. Sulfur Dioxide can cause similar symptoms, it also damges the local envirnoment in high enough concentrations causing acid rain to fall and killing off flora. Ozone also causes similar problems to human health like lung irritation and triggering asthma attacks. Particulate Matter's, or PM, potential for damage is in relation to it size, the smaller the PMs the harmful they are to you health as they can cause small tears in your respiratory system or even find ways into your blood stream.\n",
    "The worst area to live in would be Liberty as it seems to have the highest concentration in all the toxic gases measured aside from OZONE and SO2, although that's due to a lack of data."
   ]
  },
  {
   "cell_type": "code",
   "execution_count": 4,
   "metadata": {},
   "outputs": [
    {
     "name": "stdout",
     "output_type": "stream",
     "text": [
      "             date                   site parameter  index_value description\n",
      "_id                                                                        \n",
      "76286  2024-01-30         North Braddock        CO            6        Good\n",
      "76287  2024-01-30           Parkway East        CO            4        Good\n",
      "76288  2024-01-30      Harrison Township     OZONE           24        Good\n",
      "76289  2024-01-30          South Fayette     OZONE           23        Good\n",
      "76290  2024-01-30             Pittsburgh  PM10_640           11        Good\n",
      "76291  2024-01-30         North Braddock  PM25_640           24        Good\n",
      "76292  2024-01-30           Parkway East  PM25_640           19        Good\n",
      "76293  2024-01-30        Lawrenceville 2       SO2            2        Good\n",
      "76294  2024-01-30          Lawrenceville     OZONE           19        Good\n",
      "76295  2024-01-30  Glassport High Street      PM10            5        Good\n",
      "76296  2024-01-30                 Avalon  PM25_640           24        Good\n",
      "76297  2024-01-30                Liberty       SO2            1        Good\n",
      "76298  2024-01-30        Lawrenceville 2        CO            4        Good\n",
      "76299  2024-01-30      Harrison Township       NO2           17        Good\n",
      "76300  2024-01-30           Parkway East       NO2           14        Good\n",
      "76301  2024-01-30              Liberty 2  PM25_640           21        Good\n",
      "76302  2024-01-30         North Braddock       SO2            1        Good\n",
      "76303  2024-01-30             Pittsburgh   NO2_500           23        Good\n",
      "76304  2024-01-30              Liberty 2  PM10_640            6        Good\n",
      "76305  2024-01-30         North Braddock  PM10_640           10        Good\n",
      "76306  2024-01-30             Pittsburgh  PM25_640           33        Good\n",
      "76307  2024-01-30               Clairton  PM25_640           20        Good\n"
     ]
    }
   ],
   "source": [
    "date_query_mask = Air_Quality['date'].str.contains('2024-01-30')\n",
    "date_sample = Air_Quality[date_query_mask].iloc[0:60, 0:5]\n",
    "print(date_sample)"
   ]
  },
  {
   "cell_type": "code",
   "execution_count": 5,
   "metadata": {},
   "outputs": [
    {
     "data": {
      "image/png": "[encoded data removed]",
      "text/plain": [
       "<Figure size 432x288 with 1 Axes>"
      ]
     },
     "metadata": {
      "needs_background": "light"
     },
     "output_type": "display_data"
    }
   ],
   "source": [
    "Lawrenceville = [2, 19, 4, 0, 0]\n",
    "North_Braddock = [1, 0, 6, 24, 10]\n",
    "Pittsburgh = [0, 0, 0, 33, 11] \n",
    "Liberty = [1, 0, 0, 21, 6]\n",
    "index = ['SO2', 'OZONE', 'CO','PM25', 'PM10']\n",
    "df = pd.DataFrame({'Lawrenceville': Lawrenceville,'North Braddock': North_Braddock, 'Pittsburgh':Pittsburgh, 'Liberty':Liberty}, index=index)\n",
    "ax = df.plot.bar(rot=1)"
   ]
  },
  {
   "cell_type": "markdown",
   "metadata": {},
   "source": [
    "With the locations listed above Lawrenceville seems like the best neighbourhood to reside in. Since it has the second lowest Sulfur Dioxide presence as well as the lowest Carbon Monoxide and Ozone in all the areas recorded. With this information it can be concluded that Lawrenceville has the best air quality in the city and thus the best place to live in the city. \n",
    "North Braddock comes in a close second having the lowest Sulfur Dioxide and Particulate Matter(10 micrometers) in city and tying with Lawrenceville for the lowest Carbon Monoxide levels. \n",
    "The worst area to live in would be Pittsburgh as it seems to have the highest concentration in all the toxic gases measured aside from OZONE and SO2, although that's due to a lack of data."
   ]
  },
  {
   "cell_type": "code",
   "execution_count": 6,
   "metadata": {},
   "outputs": [
    {
     "name": "stdout",
     "output_type": "stream",
     "text": [
      "             date                   site parameter  index_value description\n",
      "_id                                                                        \n",
      "75527  2023-12-30         North Braddock        CO            2        Good\n",
      "75528  2023-12-30           Parkway East        CO            5        Good\n",
      "75529  2023-12-30      Harrison Township     OZONE           21        Good\n",
      "75530  2023-12-30          South Fayette     OZONE           23        Good\n",
      "75531  2023-12-30  Glassport High Street      PM10            5        Good\n",
      "75532  2023-12-30                 Avalon  PM25_640           21        Good\n",
      "75533  2023-12-30                Liberty       SO2            0        Good\n",
      "75534  2023-12-30             Pittsburgh  PM10_640           10        Good\n",
      "75535  2023-12-30         North Braddock  PM25_640           22        Good\n",
      "75536  2023-12-30           Parkway East  PM25_640           22        Good\n",
      "75537  2023-12-30        Lawrenceville 2       SO2            1        Good\n",
      "75538  2023-12-30        Lawrenceville 2        CO            2        Good\n",
      "75539  2023-12-30          Lawrenceville     OZONE           19        Good\n",
      "75540  2023-12-30              Liberty 2  PM10_640            6        Good\n",
      "75541  2023-12-30         North Braddock  PM10_640            7        Good\n",
      "75542  2023-12-30              Liberty 2  PM25_640           20        Good\n",
      "75543  2023-12-30      Harrison Township       NO2            5        Good\n",
      "75544  2023-12-30           Parkway East       NO2            8        Good\n",
      "75545  2023-12-30             Pittsburgh   NO2_500            8        Good\n",
      "75546  2023-12-30         North Braddock       SO2            0        Good\n",
      "75547  2023-12-30             Pittsburgh  PM25_640           29        Good\n",
      "75548  2023-12-30               Clairton  PM25_640           20        Good\n"
     ]
    }
   ],
   "source": [
    "date_query_mask = Air_Quality['date'].str.contains('2023-12-30')\n",
    "date_sample = Air_Quality[date_query_mask].iloc[0:60, 0:5]\n",
    "print(date_sample)"
   ]
  },
  {
   "cell_type": "code",
   "execution_count": 7,
   "metadata": {},
   "outputs": [
    {
     "data": {
      "image/png": "[encoded data removed]",
      "text/plain": [
       "<Figure size 432x288 with 1 Axes>"
      ]
     },
     "metadata": {
      "needs_background": "light"
     },
     "output_type": "display_data"
    }
   ],
   "source": [
    "Lawrenceville = [1, 19, 2, 0, 0]\n",
    "North_Braddock = [0, 0, 2, 22, 7]\n",
    "Pittsburgh = [0, 0, 0, 29, 10] \n",
    "Liberty = [0, 0, 0, 20, 6]\n",
    "index = ['SO2', 'OZONE', 'CO','PM25', 'PM10']\n",
    "df = pd.DataFrame({'Lawrenceville': Lawrenceville,'North Braddock': North_Braddock, 'Pittsburgh':Pittsburgh, 'Liberty':Liberty}, index=index)\n",
    "ax = df.plot.bar(rot=1)"
   ]
  },
  {
   "cell_type": "markdown",
   "metadata": {},
   "source": [
    "With the locations listed above Lawrenceville seems like the best neighbourhood to reside in. Since it has the second lowest Sulfur Dioxide presence as well as the lowest Carbon Monoxide and Ozone in all the areas recorded. With this information it can be concluded that Lawrenceville has the best air quality in the city and thus the best place to live in the city. \n",
    "North Braddock comes in a close second having the lowest Sulfur Dioxide and and second lowest Particulate Matter(10 micrometers) in city and tying with Lawrenceville for the lowest Carbon Monoxide levels.\n",
    "The worst area to live in would be the city of Pittsburgh as it seems to have the highest concentration in all the toxic gases measured aside from OZONE, although that's due to a lack of data."
   ]
  },
  {
   "cell_type": "code",
   "execution_count": 8,
   "metadata": {},
   "outputs": [
    {
     "name": "stdout",
     "output_type": "stream",
     "text": [
      "             date                   site parameter  index_value description\n",
      "_id                                                                        \n",
      "74796  2023-11-30      Harrison Township       NO2           26        Good\n",
      "74797  2023-11-30  Glassport High Street      PM10           14        Good\n",
      "74798  2023-11-30         North Braddock  PM25_640           53    Moderate\n",
      "74799  2023-11-30                Liberty       SO2           46        Good\n",
      "74800  2023-11-30        Lawrenceville 2        CO            5        Good\n",
      "74801  2023-11-30           Parkway East       NO2           25        Good\n",
      "74802  2023-11-30      Harrison Township     OZONE           35        Good\n",
      "74803  2023-11-30          Lawrenceville     OZONE           35        Good\n",
      "74804  2023-11-30                 Avalon  PM25_640           33        Good\n",
      "74805  2023-11-30         North Braddock       SO2           30        Good\n",
      "74806  2023-11-30             Pittsburgh   NO2_500           34        Good\n",
      "74807  2023-11-30              Liberty 2  PM10_640           31        Good\n",
      "74808  2023-11-30              Liberty 2  PM25_640           68    Moderate\n",
      "74809  2023-11-30           Parkway East  PM25_640           37        Good\n",
      "74810  2023-11-30         North Braddock        CO           14        Good\n",
      "74811  2023-11-30           Parkway East        CO           11        Good\n",
      "74812  2023-11-30          South Fayette     OZONE           40        Good\n",
      "74813  2023-11-30         North Braddock  PM10_640           30        Good\n",
      "74814  2023-11-30             Pittsburgh  PM10_640           17        Good\n",
      "74815  2023-11-30        Lawrenceville 2       SO2            3        Good\n",
      "74816  2023-11-30             Pittsburgh  PM25_640           40        Good\n",
      "74817  2023-11-30               Clairton  PM25_640           31        Good\n"
     ]
    }
   ],
   "source": [
    "date_query_mask = Air_Quality['date'].str.contains('2023-11-30')\n",
    "date_sample = Air_Quality[date_query_mask].iloc[0:60, 0:5]\n",
    "print(date_sample)"
   ]
  },
  {
   "cell_type": "code",
   "execution_count": 9,
   "metadata": {},
   "outputs": [
    {
     "data": {
      "image/png": "[encoded data removed]",
      "text/plain": [
       "<Figure size 432x288 with 1 Axes>"
      ]
     },
     "metadata": {
      "needs_background": "light"
     },
     "output_type": "display_data"
    }
   ],
   "source": [
    "Lawrenceville = [3, 35, 5, 0, 0]\n",
    "North_Braddock = [30, 0, 14, 53, 30]\n",
    "Pittsburgh = [0, 0, 0, 40, 17] \n",
    "Liberty = [46, 0, 0, 68, 31]\n",
    "index = ['SO2', 'OZONE', 'CO','PM25', 'PM10']\n",
    "df = pd.DataFrame({'Lawrenceville': Lawrenceville,'North Braddock': North_Braddock, 'Pittsburgh':Pittsburgh, 'Liberty':Liberty}, index=index)\n",
    "ax = df.plot.bar(rot=1)"
   ]
  },
  {
   "cell_type": "markdown",
   "metadata": {},
   "source": [
    "With the locations listed above Lawrenceville seems like the best neighbourhood to reside in. Since it has the lowest Sulfur Dioxide, Carbon Monoxide and Ozone in all the areas recorded. With this information it can be concluded that Lawrenceville has the best air quality in the city and thus the best place to live in the city. \n",
    "North Braddock has fallen in the rankings due to its rather high Particulate Matter presence; with hardly any neighbourhoods in the city's area coming close to Lawrencevilles air quality. The likely cause of the sudden increase in pollutants in the area is likely due to some industrial accident. The only area left relatively unaffected is core area of Pittsburgh.\n",
    "The worst area to live in would be Liberty as it seems to have the highest concentration in all the toxic gases measured aside from OZONE, although that's due to a lack of data."
   ]
  },
  {
   "cell_type": "code",
   "execution_count": 10,
   "metadata": {},
   "outputs": [
    {
     "name": "stdout",
     "output_type": "stream",
     "text": [
      "             date                   site parameter  index_value description\n",
      "_id                                                                        \n",
      "74086  2023-10-30             Pittsburgh   NO2_500            8        Good\n",
      "74087  2023-10-30              Liberty 2  PM10_640            9        Good\n",
      "74088  2023-10-30         North Braddock  PM10_640            7        Good\n",
      "74089  2023-10-30         North Braddock        CO            3        Good\n",
      "74090  2023-10-30           Parkway East        CO            5        Good\n",
      "74091  2023-10-30      Harrison Township     OZONE           22        Good\n",
      "74092  2023-10-30          South Fayette     OZONE           22        Good\n",
      "74093  2023-10-30             Pittsburgh  PM10_640            6        Good\n",
      "74094  2023-10-30        Lawrenceville 2       SO2            1        Good\n",
      "74095  2023-10-30        Lawrenceville 2        CO            3        Good\n",
      "74096  2023-10-30      Harrison Township       NO2            8        Good\n",
      "74097  2023-10-30           Parkway East       NO2            8        Good\n",
      "74098  2023-10-30         North Braddock       SO2            0        Good\n",
      "74099  2023-10-30          Lawrenceville     OZONE           21        Good\n",
      "74100  2023-10-30  Glassport High Street      PM10            4        Good\n",
      "74101  2023-10-30                Liberty       SO2            4        Good\n",
      "74102  2023-10-30                 Avalon  PM25_640           10        Good\n",
      "74103  2023-10-30         North Braddock  PM25_640           12        Good\n",
      "74104  2023-10-30           Parkway East  PM25_640           13        Good\n",
      "74105  2023-10-30              Liberty 2  PM25_640           13        Good\n",
      "74106  2023-10-30               Clairton  PM25_640           10        Good\n",
      "74107  2023-10-30             Pittsburgh  PM25_640           11        Good\n"
     ]
    }
   ],
   "source": [
    "date_query_mask = Air_Quality['date'].str.contains('2023-10-30')\n",
    "date_sample = Air_Quality[date_query_mask].iloc[0:60, 0:5]\n",
    "print(date_sample)"
   ]
  },
  {
   "cell_type": "code",
   "execution_count": 11,
   "metadata": {},
   "outputs": [
    {
     "data": {
      "image/png": "[encoded data removed]",
      "text/plain": [
       "<Figure size 432x288 with 1 Axes>"
      ]
     },
     "metadata": {
      "needs_background": "light"
     },
     "output_type": "display_data"
    }
   ],
   "source": [
    "Lawrenceville = [1, 21, 3, 0, 0]\n",
    "North_Braddock = [0, 0, 3, 12, 7]\n",
    "Pittsburgh = [0, 0, 0, 11, 6] \n",
    "Liberty = [4, 0, 0, 13, 9]\n",
    "index = ['SO2', 'OZONE', 'CO','PM25', 'PM10']\n",
    "df = pd.DataFrame({'Lawrenceville': Lawrenceville,'North Braddock': North_Braddock, 'Pittsburgh':Pittsburgh, 'Liberty':Liberty}, index=index)\n",
    "ax = df.plot.bar(rot=1)"
   ]
  },
  {
   "cell_type": "markdown",
   "metadata": {},
   "source": [
    "With the locations listed above Lawrenceville seems like the best neighbourhood to reside in. Since it has the second lowest Sulfur Dioxide presence as well as the lowest Carbon Monoxide and Ozone in all the areas recorded. With this information it can be concluded that Lawrenceville has the best air quality in the city and thus the best place to live in the city. \n",
    "North Braddock comes in a close second having the lowest Sulfur Dioxide and and second lowest Particulate Matter(10 micrometers) in city and tying with Lawrenceville for the lowest Carbon Monoxide levels. \n",
    "The worst area to live in would be Liberty as it seems to have the highest concentration in all the toxic gases measured aside from OZONE, although that's due to a lack of data."
   ]
  },
  {
   "cell_type": "markdown",
   "metadata": {},
   "source": [
    "### **Pittsburgh Arrest**"
   ]
  },
  {
   "cell_type": "markdown",
   "metadata": {},
   "source": [
    "#### **1. Why This**"
   ]
  },
  {
   "cell_type": "markdown",
   "metadata": {},
   "source": [
    "* Purpose: Arrest data contains information on people taken into custody by City of Pittsburgh police officers. "
   ]
  },
  {
   "cell_type": "markdown",
   "metadata": {},
   "source": [
    "**Safety** is an important elements to decide **the Best Neighborhood**"
   ]
  },
  {
   "cell_type": "markdown",
   "metadata": {},
   "source": [
    "#### **2. Metric**\n",
    "* 2006-2023: Neighborhood crime \n",
    "* 2019-2023: Nieghborhood crime\n",
    "* Lowest\n",
    "* Uncompatible"
   ]
  },
  {
   "cell_type": "markdown",
   "metadata": {},
   "source": [
    "#### **3. Analyst**"
   ]
  },
  {
   "cell_type": "code",
   "execution_count": 12,
   "metadata": {},
   "outputs": [
    {
     "data": {
      "text/html": [
       "<div>\n",
       "<style scoped>\n",
       "    .dataframe tbody tr th:only-of-type {\n",
       "        vertical-align: middle;\n",
       "    }\n",
       "\n",
       "    .dataframe tbody tr th {\n",
       "        vertical-align: top;\n",
       "    }\n",
       "\n",
       "    .dataframe thead th {\n",
       "        text-align: right;\n",
       "    }\n",
       "</style>\n",
       "<table border=\"1\" class=\"dataframe\">\n",
       "  <thead>\n",
       "    <tr style=\"text-align: right;\">\n",
       "      <th></th>\n",
       "      <th>PK</th>\n",
       "      <th>CCR</th>\n",
       "      <th>AGE</th>\n",
       "      <th>GENDER</th>\n",
       "      <th>RACE</th>\n",
       "      <th>ARRESTTIME</th>\n",
       "      <th>ARRESTLOCATION</th>\n",
       "      <th>OFFENSES</th>\n",
       "      <th>INCIDENTLOCATION</th>\n",
       "      <th>INCIDENTNEIGHBORHOOD</th>\n",
       "      <th>INCIDENTZONE</th>\n",
       "      <th>INCIDENTTRACT</th>\n",
       "      <th>COUNCIL_DISTRICT</th>\n",
       "      <th>PUBLIC_WORKS_DIVISION</th>\n",
       "      <th>X</th>\n",
       "      <th>Y</th>\n",
       "    </tr>\n",
       "    <tr>\n",
       "      <th>_id</th>\n",
       "      <th></th>\n",
       "      <th></th>\n",
       "      <th></th>\n",
       "      <th></th>\n",
       "      <th></th>\n",
       "      <th></th>\n",
       "      <th></th>\n",
       "      <th></th>\n",
       "      <th></th>\n",
       "      <th></th>\n",
       "      <th></th>\n",
       "      <th></th>\n",
       "      <th></th>\n",
       "      <th></th>\n",
       "      <th></th>\n",
       "      <th></th>\n",
       "    </tr>\n",
       "  </thead>\n",
       "  <tbody>\n",
       "    <tr>\n",
       "      <th>79484</th>\n",
       "      <td>2054857</td>\n",
       "      <td>22205395</td>\n",
       "      <td>42.0</td>\n",
       "      <td>M</td>\n",
       "      <td>B</td>\n",
       "      <td>2023-01-24T14:38:00</td>\n",
       "      <td>200 Block Dinwiddie ST Pittsburgh, PA 15219</td>\n",
       "      <td>2501 Criminal Homicide. / 6105(a)(1) Persons n...</td>\n",
       "      <td>3200 Block Brighton RD Pittsburgh, PA 15212</td>\n",
       "      <td>Marshall-Shadeland</td>\n",
       "      <td>1</td>\n",
       "      <td>2715.0</td>\n",
       "      <td>1.0</td>\n",
       "      <td>1.0</td>\n",
       "      <td>-80.031108</td>\n",
       "      <td>40.475789</td>\n",
       "    </tr>\n",
       "    <tr>\n",
       "      <th>13343</th>\n",
       "      <td>1991304</td>\n",
       "      <td>17180536</td>\n",
       "      <td>34.0</td>\n",
       "      <td>M</td>\n",
       "      <td>W</td>\n",
       "      <td>2017-09-19T23:10:00</td>\n",
       "      <td>Centre AV &amp; Mario Lemieux PL Pittsburgh, PA 15219</td>\n",
       "      <td>5104 Resisting Arrest or Other Law Enforcement...</td>\n",
       "      <td>Centre AV &amp; Mario Lemieux PL Pittsburgh, PA 15219</td>\n",
       "      <td>Central Business District</td>\n",
       "      <td>2</td>\n",
       "      <td>201.0</td>\n",
       "      <td>6.0</td>\n",
       "      <td>6.0</td>\n",
       "      <td>-79.989290</td>\n",
       "      <td>40.440538</td>\n",
       "    </tr>\n",
       "    <tr>\n",
       "      <th>67861</th>\n",
       "      <td>2043525</td>\n",
       "      <td>21207650</td>\n",
       "      <td>30.0</td>\n",
       "      <td>M</td>\n",
       "      <td>B</td>\n",
       "      <td>2021-11-15T08:26:00</td>\n",
       "      <td>Zone 4</td>\n",
       "      <td>2701 Simple Assault.</td>\n",
       "      <td>Zone 4</td>\n",
       "      <td>NaN</td>\n",
       "      <td>4</td>\n",
       "      <td>NaN</td>\n",
       "      <td>NaN</td>\n",
       "      <td>NaN</td>\n",
       "      <td>NaN</td>\n",
       "      <td>NaN</td>\n",
       "    </tr>\n",
       "    <tr>\n",
       "      <th>22596</th>\n",
       "      <td>2003194</td>\n",
       "      <td>18096268</td>\n",
       "      <td>40.0</td>\n",
       "      <td>M</td>\n",
       "      <td>W</td>\n",
       "      <td>2018-08-06T01:10:00</td>\n",
       "      <td>900 Block 2nd AV Pittsburgh, PA 15219</td>\n",
       "      <td>3925 Receiving Stolen Property. / 4106 Access ...</td>\n",
       "      <td>2700 Block Shelly ST Pittsburgh, PA 15203</td>\n",
       "      <td>South Side Slopes</td>\n",
       "      <td>3</td>\n",
       "      <td>1608.0</td>\n",
       "      <td>3.0</td>\n",
       "      <td>3.0</td>\n",
       "      <td>-79.968897</td>\n",
       "      <td>40.422917</td>\n",
       "    </tr>\n",
       "    <tr>\n",
       "      <th>51527</th>\n",
       "      <td>2029228</td>\n",
       "      <td>19248880</td>\n",
       "      <td>29.0</td>\n",
       "      <td>F</td>\n",
       "      <td>B</td>\n",
       "      <td>2020-08-12T16:42:00</td>\n",
       "      <td>600 Block 1st AV Pittsburgh, PA 15219</td>\n",
       "      <td>903 Criminal Conspiracy. / 3929 Retail Theft.</td>\n",
       "      <td>900 Block Freeport RD Pittsburgh, PA 15238</td>\n",
       "      <td>Lincoln-Lemington-Belmar</td>\n",
       "      <td>5</td>\n",
       "      <td>1201.0</td>\n",
       "      <td>9.0</td>\n",
       "      <td>2.0</td>\n",
       "      <td>-79.892353</td>\n",
       "      <td>40.486119</td>\n",
       "    </tr>\n",
       "  </tbody>\n",
       "</table>\n",
       "</div>"
      ],
      "text/plain": [
       "            PK       CCR   AGE GENDER RACE           ARRESTTIME  \\\n",
       "_id                                                               \n",
       "79484  2054857  22205395  42.0      M    B  2023-01-24T14:38:00   \n",
       "13343  1991304  17180536  34.0      M    W  2017-09-19T23:10:00   \n",
       "67861  2043525  21207650  30.0      M    B  2021-11-15T08:26:00   \n",
       "22596  2003194  18096268  40.0      M    W  2018-08-06T01:10:00   \n",
       "51527  2029228  19248880  29.0      F    B  2020-08-12T16:42:00   \n",
       "\n",
       "                                          ARRESTLOCATION  \\\n",
       "_id                                                        \n",
       "79484        200 Block Dinwiddie ST Pittsburgh, PA 15219   \n",
       "13343  Centre AV & Mario Lemieux PL Pittsburgh, PA 15219   \n",
       "67861                                             Zone 4   \n",
       "22596              900 Block 2nd AV Pittsburgh, PA 15219   \n",
       "51527              600 Block 1st AV Pittsburgh, PA 15219   \n",
       "\n",
       "                                                OFFENSES  \\\n",
       "_id                                                        \n",
       "79484  2501 Criminal Homicide. / 6105(a)(1) Persons n...   \n",
       "13343  5104 Resisting Arrest or Other Law Enforcement...   \n",
       "67861                               2701 Simple Assault.   \n",
       "22596  3925 Receiving Stolen Property. / 4106 Access ...   \n",
       "51527      903 Criminal Conspiracy. / 3929 Retail Theft.   \n",
       "\n",
       "                                        INCIDENTLOCATION  \\\n",
       "_id                                                        \n",
       "79484        3200 Block Brighton RD Pittsburgh, PA 15212   \n",
       "13343  Centre AV & Mario Lemieux PL Pittsburgh, PA 15219   \n",
       "67861                                             Zone 4   \n",
       "22596          2700 Block Shelly ST Pittsburgh, PA 15203   \n",
       "51527         900 Block Freeport RD Pittsburgh, PA 15238   \n",
       "\n",
       "            INCIDENTNEIGHBORHOOD INCIDENTZONE  INCIDENTTRACT  \\\n",
       "_id                                                            \n",
       "79484         Marshall-Shadeland            1         2715.0   \n",
       "13343  Central Business District            2          201.0   \n",
       "67861                        NaN            4            NaN   \n",
       "22596          South Side Slopes            3         1608.0   \n",
       "51527   Lincoln-Lemington-Belmar            5         1201.0   \n",
       "\n",
       "       COUNCIL_DISTRICT  PUBLIC_WORKS_DIVISION          X          Y  \n",
       "_id                                                                   \n",
       "79484               1.0                    1.0 -80.031108  40.475789  \n",
       "13343               6.0                    6.0 -79.989290  40.440538  \n",
       "67861               NaN                    NaN        NaN        NaN  \n",
       "22596               3.0                    3.0 -79.968897  40.422917  \n",
       "51527               9.0                    2.0 -79.892353  40.486119  "
      ]
     },
     "execution_count": 12,
     "metadata": {},
     "output_type": "execute_result"
    }
   ],
   "source": [
    "arrest=pd.read_csv(\"Arrest_Dataset.csv\",index_col=\"_id\")\n",
    "arrest.sample(5)"
   ]
  },
  {
   "cell_type": "code",
   "execution_count": 13,
   "metadata": {},
   "outputs": [
    {
     "name": "stdout",
     "output_type": "stream",
     "text": [
      "         INCIDENTNEIGHBORHOOD  Count\n",
      "0   Central Business District   4439\n",
      "1            South Side Flats   3496\n",
      "2                     Carrick   2351\n",
      "3              East Allegheny   2217\n",
      "4              Homewood South   2090\n",
      "..                        ...    ...\n",
      "93              Regent Square     37\n",
      "94          Central Northside     23\n",
      "95            Mt. Oliver Boro     18\n",
      "96     Troy Hill-Herrs Island      6\n",
      "97    Mt. Oliver Neighborhood      2\n",
      "\n",
      "[98 rows x 2 columns]\n"
     ]
    }
   ],
   "source": [
    "#neighborhood_counts = arrest['INCIDENTNEIGHBORHOOD'].value_counts()\n",
    "\n",
    "#print(\"Count of different values in INCIDENTNEIGHBORHOOD:\")\n",
    "#print(neighborhood_counts)\n",
    "neighborhood_counts = arrest['INCIDENTNEIGHBORHOOD'].value_counts()\n",
    "\n",
    "# Convert the Series to a DataFrame with two columns\n",
    "neighborhood_counts = pd.DataFrame({'INCIDENTNEIGHBORHOOD': neighborhood_counts.index, 'Count': neighborhood_counts.values})\n",
    "\n",
    "# Display the DataFrame\n",
    "print(neighborhood_counts)\n"
   ]
  },
  {
   "cell_type": "code",
   "execution_count": 18,
   "metadata": {},
   "outputs": [
    {
     "name": "stdout",
     "output_type": "stream",
     "text": [
      "         INCIDENTNEIGHBORHOOD  COUNT\n",
      "54            Mt. Oliver Boro      8\n",
      "69              Regent Square     19\n",
      "55              New Homestead     24\n",
      "26              East Carnegie     26\n",
      "61             Outside County     26\n",
      "..                        ...    ...\n",
      "40             Homewood North   1262\n",
      "25             East Allegheny   1266\n",
      "15                    Carrick   1398\n",
      "75           South Side Flats   1934\n",
      "16  Central Business District   2900\n",
      "\n",
      "[94 rows x 2 columns]\n"
     ]
    }
   ],
   "source": [
    "# Filter the dataframe for offenses including \"Theft\" or \"Assault\"\n",
    "filtered_arrest = arrest[arrest['ARRESTTIME'].str.contains('2019|2020|2021|2022|2023', case=False)]\n",
    "\n",
    "# Group by INCIDENTNEIGHBORHOOD and count the occurrences\n",
    "neighborhood_counts2019 = filtered_arrest.groupby('INCIDENTNEIGHBORHOOD').size().reset_index(name='COUNT')\n",
    "\n",
    "neighborhood_counts2019 = neighborhood_counts2019.sort_values('COUNT', ascending=True)\n",
    "\n",
    "# Display the table\n",
    "print(neighborhood_counts2019)\n"
   ]
  },
  {
   "cell_type": "code",
   "execution_count": 15,
   "metadata": {},
   "outputs": [
    {
     "name": "stdout",
     "output_type": "stream",
     "text": [
      "82    Golden Triangle/Civic Arena\n",
      "94              Central Northside\n",
      "96         Troy Hill-Herrs Island\n",
      "97        Mt. Oliver Neighborhood\n",
      "Name: INCIDENTNEIGHBORHOOD, dtype: object\n"
     ]
    }
   ],
   "source": [
    "#crime low to zero after 2019\n",
    "concatenated_df = pd.concat([neighborhood_counts['INCIDENTNEIGHBORHOOD'], neighborhood_counts2019['INCIDENTNEIGHBORHOOD']])\n",
    "\n",
    "\n",
    "only_in_first = concatenated_df.drop_duplicates(keep=False)\n",
    "\n",
    "\n",
    "print(only_in_first)"
   ]
  },
  {
   "cell_type": "code",
   "execution_count": 16,
   "metadata": {},
   "outputs": [
    {
     "data": {
      "text/plain": [
       "<Figure size 1080x432 with 0 Axes>"
      ]
     },
     "metadata": {},
     "output_type": "display_data"
    },
    {
     "data": {
      "image/png": "[encoded data removed]",
      "text/plain": [
       "<Figure size 432x288 with 1 Axes>"
      ]
     },
     "metadata": {
      "needs_background": "light"
     },
     "output_type": "display_data"
    }
   ],
   "source": [
    "import matplotlib.pyplot as plt\n",
    "plt.figure(figsize=(15, 6))\n",
    "neighborhood_counts.plot(kind='bar')\n",
    "plt.title('Count of Incidents by Neighborhood')\n",
    "plt.xlabel('Neighborhood')\n",
    "plt.ylabel('Count')\n",
    "plt.xticks(rotation=90)  # Rotating x-axis labels for better readability\n",
    "plt.tight_layout()  # Adjust layout to prevent clipping of labels\n",
    "plt.show()"
   ]
  },
  {
   "cell_type": "markdown",
   "metadata": {},
   "source": [
    "#### **3. Word_Analyst**"
   ]
  },
  {
   "cell_type": "markdown",
   "metadata": {},
   "source": [
    "* We can find from the table that Central Business District, Central Business District, South Side Flats, Carrick, East Allegheny, Homewood North still stay at the top even though we shrink the time scope. They are no doubt the most dangerous district.  \n",
    "* 4 district crime rate low to 0:\n",
    "    * Golden Triangle/Civic Arena\n",
    "    * Central Northside\n",
    "    * Troy Hill-Herrs Island\n",
    "    * Mt. Oliver Neighborhood\n",
    "*They are no doubt the best communities to live \n",
    "* However, It doesn't mean several others can't be the best. \n",
    "* Compare the smallest 5 crime rate:\n",
    "* Though Regent Square (19), Mt. Oliver Boro (8) also have unignorable crime rate, records in this table are only from 2016-2023. It decreases much."
   ]
  },
  {
   "cell_type": "code",
   "execution_count": null,
   "metadata": {},
   "outputs": [],
   "source": []
  }
 ],
 "metadata": {
  "kernelspec": {
   "display_name": "Python 3",
   "language": "python",
   "name": "python3"
  },
  "language_info": {
   "codemirror_mode": {
    "name": "ipython",
    "version": 3
   },
   "file_extension": ".py",
   "mimetype": "text/x-python",
   "name": "python",
   "nbconvert_exporter": "python",
   "pygments_lexer": "ipython3",
   "version": "3.8.3"
  }
 },
 "nbformat": 4,
 "nbformat_minor": 4
}
