{
 "cells": [
  {
   "cell_type": "markdown",
   "metadata": {},
   "source": [
    "DataSet Link: https://data.wprdc.org/dataset/arrest-data/resource/e03a89dd-134a-4ee8-a2bd-62c40aeebc6f"
   ]
  },
  {
   "cell_type": "markdown",
   "metadata": {},
   "source": [
    "### **Pittsburgh Arrest**"
   ]
  },
  {
   "cell_type": "markdown",
   "metadata": {},
   "source": [
    "#### **1. Why This**"
   ]
  },
  {
   "cell_type": "markdown",
   "metadata": {},
   "source": [
    "* Purpose: Arrest data contains information on people taken into custody by City of Pittsburgh police officers. "
   ]
  },
  {
   "cell_type": "markdown",
   "metadata": {},
   "source": [
    "**Safety** is an important elements to decide **the Best Neighborhood**"
   ]
  },
  {
   "cell_type": "markdown",
   "metadata": {},
   "source": [
    "#### **2. Analyst**"
   ]
  },
  {
   "cell_type": "code",
   "execution_count": 2,
   "metadata": {},
   "outputs": [],
   "source": [
    "import pandas as pd"
   ]
  },
  {
   "cell_type": "code",
   "execution_count": 3,
   "metadata": {},
   "outputs": [
    {
     "data": {
      "text/html": [
       "<div>\n",
       "<style scoped>\n",
       "    .dataframe tbody tr th:only-of-type {\n",
       "        vertical-align: middle;\n",
       "    }\n",
       "\n",
       "    .dataframe tbody tr th {\n",
       "        vertical-align: top;\n",
       "    }\n",
       "\n",
       "    .dataframe thead th {\n",
       "        text-align: right;\n",
       "    }\n",
       "</style>\n",
       "<table border=\"1\" class=\"dataframe\">\n",
       "  <thead>\n",
       "    <tr style=\"text-align: right;\">\n",
       "      <th></th>\n",
       "      <th>PK</th>\n",
       "      <th>CCR</th>\n",
       "      <th>AGE</th>\n",
       "      <th>GENDER</th>\n",
       "      <th>RACE</th>\n",
       "      <th>ARRESTTIME</th>\n",
       "      <th>ARRESTLOCATION</th>\n",
       "      <th>OFFENSES</th>\n",
       "      <th>INCIDENTLOCATION</th>\n",
       "      <th>INCIDENTNEIGHBORHOOD</th>\n",
       "      <th>INCIDENTZONE</th>\n",
       "      <th>INCIDENTTRACT</th>\n",
       "      <th>COUNCIL_DISTRICT</th>\n",
       "      <th>PUBLIC_WORKS_DIVISION</th>\n",
       "      <th>X</th>\n",
       "      <th>Y</th>\n",
       "    </tr>\n",
       "    <tr>\n",
       "      <th>_id</th>\n",
       "      <th></th>\n",
       "      <th></th>\n",
       "      <th></th>\n",
       "      <th></th>\n",
       "      <th></th>\n",
       "      <th></th>\n",
       "      <th></th>\n",
       "      <th></th>\n",
       "      <th></th>\n",
       "      <th></th>\n",
       "      <th></th>\n",
       "      <th></th>\n",
       "      <th></th>\n",
       "      <th></th>\n",
       "      <th></th>\n",
       "      <th></th>\n",
       "    </tr>\n",
       "  </thead>\n",
       "  <tbody>\n",
       "    <tr>\n",
       "      <th>6968</th>\n",
       "      <td>1983282</td>\n",
       "      <td>17055137</td>\n",
       "      <td>28.0</td>\n",
       "      <td>M</td>\n",
       "      <td>W</td>\n",
       "      <td>2017-03-27T18:08:00</td>\n",
       "      <td>Butler ST &amp; 48th ST Pittsburgh, PA 15201</td>\n",
       "      <td>1301 Registration and Certificate of Title Req...</td>\n",
       "      <td>Butler ST &amp; 48th ST Pittsburgh, PA 15201</td>\n",
       "      <td>Central Lawrenceville</td>\n",
       "      <td>2</td>\n",
       "      <td>901.0</td>\n",
       "      <td>7.0</td>\n",
       "      <td>2.0</td>\n",
       "      <td>-79.957641</td>\n",
       "      <td>40.475854</td>\n",
       "    </tr>\n",
       "    <tr>\n",
       "      <th>1804</th>\n",
       "      <td>1976749</td>\n",
       "      <td>16189783</td>\n",
       "      <td>57.0</td>\n",
       "      <td>F</td>\n",
       "      <td>B</td>\n",
       "      <td>2016-10-07T15:34:00</td>\n",
       "      <td>7000 Block Idlewild ST Pittsburgh, PA 15208</td>\n",
       "      <td>2706 Terroristic Threats. / 2701(a)(3) Simple ...</td>\n",
       "      <td>7000 Block Idlewild ST Pittsburgh, PA 15208</td>\n",
       "      <td>Homewood North</td>\n",
       "      <td>5</td>\n",
       "      <td>1301.0</td>\n",
       "      <td>9.0</td>\n",
       "      <td>2.0</td>\n",
       "      <td>-79.900698</td>\n",
       "      <td>40.459346</td>\n",
       "    </tr>\n",
       "    <tr>\n",
       "      <th>7222</th>\n",
       "      <td>1983604</td>\n",
       "      <td>17034717</td>\n",
       "      <td>NaN</td>\n",
       "      <td>M</td>\n",
       "      <td>B</td>\n",
       "      <td>2017-02-24T22:10:00</td>\n",
       "      <td>50 Block 11th ST Pittsburgh, PA 15222</td>\n",
       "      <td>5503 Disorderly Conduct. / 5507 Obstructing Hi...</td>\n",
       "      <td>50 Block 11th ST Pittsburgh, PA 15222</td>\n",
       "      <td>Central Business District</td>\n",
       "      <td>2</td>\n",
       "      <td>201.0</td>\n",
       "      <td>3.0</td>\n",
       "      <td>3.0</td>\n",
       "      <td>-79.987672</td>\n",
       "      <td>40.428960</td>\n",
       "    </tr>\n",
       "    <tr>\n",
       "      <th>1005</th>\n",
       "      <td>1975718</td>\n",
       "      <td>16166519</td>\n",
       "      <td>22.0</td>\n",
       "      <td>M</td>\n",
       "      <td>A</td>\n",
       "      <td>2016-09-06T16:44:00</td>\n",
       "      <td>600 Block 1st AV Pittsburgh, PA 15219</td>\n",
       "      <td>493(1) Furnishing Liquor/Malt to Intox.Persons...</td>\n",
       "      <td>300 Block Atwood ST Pittsburgh, PA 15213</td>\n",
       "      <td>Central Oakland</td>\n",
       "      <td>4</td>\n",
       "      <td>405.0</td>\n",
       "      <td>3.0</td>\n",
       "      <td>3.0</td>\n",
       "      <td>-79.955945</td>\n",
       "      <td>40.439518</td>\n",
       "    </tr>\n",
       "    <tr>\n",
       "      <th>5942</th>\n",
       "      <td>1982026</td>\n",
       "      <td>17031787</td>\n",
       "      <td>15.0</td>\n",
       "      <td>M</td>\n",
       "      <td>B</td>\n",
       "      <td>2017-02-20T17:00:00</td>\n",
       "      <td>800 Block Mt Pleasant RD Pittsburgh, PA 15214</td>\n",
       "      <td>9015 Failure To Appear/Arrest on Attachment Order</td>\n",
       "      <td>800 Block Mt Pleasant RD Pittsburgh, PA 15214</td>\n",
       "      <td>Northview Heights</td>\n",
       "      <td>1</td>\n",
       "      <td>2609.0</td>\n",
       "      <td>1.0</td>\n",
       "      <td>1.0</td>\n",
       "      <td>-79.999473</td>\n",
       "      <td>40.475744</td>\n",
       "    </tr>\n",
       "  </tbody>\n",
       "</table>\n",
       "</div>"
      ],
      "text/plain": [
       "           PK       CCR   AGE GENDER RACE           ARRESTTIME  \\\n",
       "_id                                                              \n",
       "6968  1983282  17055137  28.0      M    W  2017-03-27T18:08:00   \n",
       "1804  1976749  16189783  57.0      F    B  2016-10-07T15:34:00   \n",
       "7222  1983604  17034717   NaN      M    B  2017-02-24T22:10:00   \n",
       "1005  1975718  16166519  22.0      M    A  2016-09-06T16:44:00   \n",
       "5942  1982026  17031787  15.0      M    B  2017-02-20T17:00:00   \n",
       "\n",
       "                                     ARRESTLOCATION  \\\n",
       "_id                                                   \n",
       "6968       Butler ST & 48th ST Pittsburgh, PA 15201   \n",
       "1804    7000 Block Idlewild ST Pittsburgh, PA 15208   \n",
       "7222          50 Block 11th ST Pittsburgh, PA 15222   \n",
       "1005          600 Block 1st AV Pittsburgh, PA 15219   \n",
       "5942  800 Block Mt Pleasant RD Pittsburgh, PA 15214   \n",
       "\n",
       "                                               OFFENSES  \\\n",
       "_id                                                       \n",
       "6968  1301 Registration and Certificate of Title Req...   \n",
       "1804  2706 Terroristic Threats. / 2701(a)(3) Simple ...   \n",
       "7222  5503 Disorderly Conduct. / 5507 Obstructing Hi...   \n",
       "1005  493(1) Furnishing Liquor/Malt to Intox.Persons...   \n",
       "5942  9015 Failure To Appear/Arrest on Attachment Order   \n",
       "\n",
       "                                   INCIDENTLOCATION  \\\n",
       "_id                                                   \n",
       "6968       Butler ST & 48th ST Pittsburgh, PA 15201   \n",
       "1804    7000 Block Idlewild ST Pittsburgh, PA 15208   \n",
       "7222          50 Block 11th ST Pittsburgh, PA 15222   \n",
       "1005       300 Block Atwood ST Pittsburgh, PA 15213   \n",
       "5942  800 Block Mt Pleasant RD Pittsburgh, PA 15214   \n",
       "\n",
       "           INCIDENTNEIGHBORHOOD INCIDENTZONE  INCIDENTTRACT  COUNCIL_DISTRICT  \\\n",
       "_id                                                                             \n",
       "6968      Central Lawrenceville            2          901.0               7.0   \n",
       "1804             Homewood North            5         1301.0               9.0   \n",
       "7222  Central Business District            2          201.0               3.0   \n",
       "1005            Central Oakland            4          405.0               3.0   \n",
       "5942          Northview Heights            1         2609.0               1.0   \n",
       "\n",
       "      PUBLIC_WORKS_DIVISION          X          Y  \n",
       "_id                                                \n",
       "6968                    2.0 -79.957641  40.475854  \n",
       "1804                    2.0 -79.900698  40.459346  \n",
       "7222                    3.0 -79.987672  40.428960  \n",
       "1005                    3.0 -79.955945  40.439518  \n",
       "5942                    1.0 -79.999473  40.475744  "
      ]
     },
     "execution_count": 3,
     "metadata": {},
     "output_type": "execute_result"
    }
   ],
   "source": [
    "arrest=pd.read_csv(\"Arrest_Dataset.csv\",index_col=\"_id\")\n",
    "arrest.sample(5)"
   ]
  },
  {
   "cell_type": "code",
   "execution_count": 36,
   "metadata": {},
   "outputs": [
    {
     "name": "stdout",
     "output_type": "stream",
     "text": [
      "         INCIDENTNEIGHBORHOOD  Count\n",
      "0   Central Business District   4439\n",
      "1            South Side Flats   3496\n",
      "2                     Carrick   2351\n",
      "3              East Allegheny   2217\n",
      "4              Homewood South   2090\n",
      "..                        ...    ...\n",
      "93              Regent Square     37\n",
      "94          Central Northside     23\n",
      "95            Mt. Oliver Boro     18\n",
      "96     Troy Hill-Herrs Island      6\n",
      "97    Mt. Oliver Neighborhood      2\n",
      "\n",
      "[98 rows x 2 columns]\n"
     ]
    }
   ],
   "source": [
    "#neighborhood_counts = arrest['INCIDENTNEIGHBORHOOD'].value_counts()\n",
    "\n",
    "#print(\"Count of different values in INCIDENTNEIGHBORHOOD:\")\n",
    "#print(neighborhood_counts)\n",
    "neighborhood_counts = arrest['INCIDENTNEIGHBORHOOD'].value_counts()\n",
    "\n",
    "# Convert the Series to a DataFrame with two columns\n",
    "neighborhood_counts = pd.DataFrame({'INCIDENTNEIGHBORHOOD': neighborhood_counts.index, 'Count': neighborhood_counts.values})\n",
    "\n",
    "# Display the DataFrame\n",
    "print(neighborhood_counts)\n"
   ]
  },
  {
   "cell_type": "code",
   "execution_count": 37,
   "metadata": {},
   "outputs": [
    {
     "name": "stdout",
     "output_type": "stream",
     "text": [
      "         INCIDENTNEIGHBORHOOD  COUNT\n",
      "16  Central Business District   2900\n",
      "75           South Side Flats   1934\n",
      "15                    Carrick   1398\n",
      "25             East Allegheny   1266\n",
      "40             Homewood North   1262\n",
      "..                        ...    ...\n",
      "61             Outside County     26\n",
      "26              East Carnegie     26\n",
      "55              New Homestead     24\n",
      "69              Regent Square     19\n",
      "54            Mt. Oliver Boro      8\n",
      "\n",
      "[94 rows x 2 columns]\n"
     ]
    }
   ],
   "source": [
    "# Filter the dataframe for offenses including \"Theft\" or \"Assault\"\n",
    "filtered_arrest = arrest[arrest['ARRESTTIME'].str.contains('2019|2020|2021|2022|2023', case=False)]\n",
    "\n",
    "# Group by INCIDENTNEIGHBORHOOD and count the occurrences\n",
    "neighborhood_counts2019 = filtered_arrest.groupby('INCIDENTNEIGHBORHOOD').size().reset_index(name='COUNT')\n",
    "\n",
    "neighborhood_counts2019 = neighborhood_counts2019.sort_values('COUNT', ascending=False)\n",
    "\n",
    "# Display the table\n",
    "print(neighborhood_counts2019)\n"
   ]
  },
  {
   "cell_type": "code",
   "execution_count": 40,
   "metadata": {},
   "outputs": [
    {
     "name": "stdout",
     "output_type": "stream",
     "text": [
      "82    Golden Triangle/Civic Arena\n",
      "94              Central Northside\n",
      "96         Troy Hill-Herrs Island\n",
      "97        Mt. Oliver Neighborhood\n",
      "Name: INCIDENTNEIGHBORHOOD, dtype: object\n"
     ]
    }
   ],
   "source": [
    "#crime low to zero after 2019\n",
    "concatenated_df = pd.concat([neighborhood_counts['INCIDENTNEIGHBORHOOD'], neighborhood_counts2019['INCIDENTNEIGHBORHOOD']])\n",
    "\n",
    "\n",
    "only_in_first = concatenated_df.drop_duplicates(keep=False)\n",
    "\n",
    "\n",
    "print(only_in_first)"
   ]
  },
  {
   "cell_type": "code",
   "execution_count": 16,
   "metadata": {},
   "outputs": [
    {
     "data": {
      "text/plain": [
       "<Figure size 1080x432 with 0 Axes>"
      ]
     },
     "metadata": {},
     "output_type": "display_data"
    },
    {
     "data": {
      "image/png": "[encoded data removed]",
      "text/plain": [
       "<Figure size 432x288 with 1 Axes>"
      ]
     },
     "metadata": {
      "needs_background": "light"
     },
     "output_type": "display_data"
    }
   ],
   "source": [
    "import matplotlib.pyplot as plt\n",
    "plt.figure(figsize=(15, 6))\n",
    "neighborhood_counts.plot(kind='bar')\n",
    "plt.title('Count of Incidents by Neighborhood')\n",
    "plt.xlabel('Neighborhood')\n",
    "plt.ylabel('Count')\n",
    "plt.xticks(rotation=90)  # Rotating x-axis labels for better readability\n",
    "plt.tight_layout()  # Adjust layout to prevent clipping of labels\n",
    "plt.show()"
   ]
  },
  {
   "cell_type": "markdown",
   "metadata": {},
   "source": [
    "#### **3. Word_Analyst**"
   ]
  },
  {
   "cell_type": "markdown",
   "metadata": {},
   "source": [
    "* We can find from the table that Central Business District, Central Business District, South Side Flats, Carrick, East Allegheny, Homewood North still stay at the top even though we shrink the time scope. They are no doubt the most dangerous district.  \n",
    "* 4 district crime rate low to 0:\n",
    "    * Golden Triangle/Civic Arena\n",
    "    * Central Northside\n",
    "    * Troy Hill-Herrs Island\n",
    "    * Mt. Oliver Neighborhood\n",
    "*They are no doubt the best communities to live \n",
    "* However, It doesn't mean several others can't be the best. \n",
    "* Compare the smallest 5 crime rate:\n",
    "* Though Regent Square (19), Mt. Oliver Boro (8) also have unignorable crime rate, records in this table are only from 2016-2023. It decreases much. "
   ]
  },
  {
   "cell_type": "code",
   "execution_count": null,
   "metadata": {},
   "outputs": [],
   "source": []
  }
 ],
 "metadata": {
  "kernelspec": {
   "display_name": "Python 3",
   "language": "python",
   "name": "python3"
  },
  "language_info": {
   "codemirror_mode": {
    "name": "ipython",
    "version": 3
   },
   "file_extension": ".py",
   "mimetype": "text/x-python",
   "name": "python",
   "nbconvert_exporter": "python",
   "pygments_lexer": "ipython3",
   "version": "3.8.3"
  }
 },
 "nbformat": 4,
 "nbformat_minor": 4
}
