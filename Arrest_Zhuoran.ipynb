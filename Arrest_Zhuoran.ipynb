{
 "cells": [
  {
   "cell_type": "markdown",
   "metadata": {},
   "source": [
    "DataSet Link: https://data.wprdc.org/dataset/arrest-data/resource/e03a89dd-134a-4ee8-a2bd-62c40aeebc6f"
   ]
  },
  {
   "cell_type": "markdown",
   "metadata": {},
   "source": [
    "### **Pittsburgh Arrest**"
   ]
  },
  {
   "cell_type": "markdown",
   "metadata": {},
   "source": [
    "#### **1. Why This**"
   ]
  },
  {
   "cell_type": "markdown",
   "metadata": {},
   "source": [
    "* Purpose: Arrest data contains information on people taken into custody by City of Pittsburgh police officers. "
   ]
  },
  {
   "cell_type": "markdown",
   "metadata": {},
   "source": [
    "**Safety** is an important elements to decide **the Best Neighborhood**"
   ]
  },
  {
   "cell_type": "markdown",
   "metadata": {},
   "source": [
    "#### **2. Metric**\n",
    "* 2006-2023: Neighborhood crime \n",
    "* 2019-2023: Nieghborhood crime\n",
    "* Lowest\n",
    "* Uncompatible"
   ]
  },
  {
   "cell_type": "markdown",
   "metadata": {},
   "source": [
    "#### **3. Analyst**"
   ]
  },
  {
   "cell_type": "code",
   "execution_count": 3,
   "metadata": {},
   "outputs": [],
   "source": [
    "import pandas as pd"
   ]
  },
  {
   "cell_type": "code",
   "execution_count": 4,
   "metadata": {},
   "outputs": [
    {
     "data": {
      "text/html": [
       "<div>\n",
       "<style scoped>\n",
       "    .dataframe tbody tr th:only-of-type {\n",
       "        vertical-align: middle;\n",
       "    }\n",
       "\n",
       "    .dataframe tbody tr th {\n",
       "        vertical-align: top;\n",
       "    }\n",
       "\n",
       "    .dataframe thead th {\n",
       "        text-align: right;\n",
       "    }\n",
       "</style>\n",
       "<table border=\"1\" class=\"dataframe\">\n",
       "  <thead>\n",
       "    <tr style=\"text-align: right;\">\n",
       "      <th></th>\n",
       "      <th>PK</th>\n",
       "      <th>CCR</th>\n",
       "      <th>AGE</th>\n",
       "      <th>GENDER</th>\n",
       "      <th>RACE</th>\n",
       "      <th>ARRESTTIME</th>\n",
       "      <th>ARRESTLOCATION</th>\n",
       "      <th>OFFENSES</th>\n",
       "      <th>INCIDENTLOCATION</th>\n",
       "      <th>INCIDENTNEIGHBORHOOD</th>\n",
       "      <th>INCIDENTZONE</th>\n",
       "      <th>INCIDENTTRACT</th>\n",
       "      <th>COUNCIL_DISTRICT</th>\n",
       "      <th>PUBLIC_WORKS_DIVISION</th>\n",
       "      <th>X</th>\n",
       "      <th>Y</th>\n",
       "    </tr>\n",
       "    <tr>\n",
       "      <th>_id</th>\n",
       "      <th></th>\n",
       "      <th></th>\n",
       "      <th></th>\n",
       "      <th></th>\n",
       "      <th></th>\n",
       "      <th></th>\n",
       "      <th></th>\n",
       "      <th></th>\n",
       "      <th></th>\n",
       "      <th></th>\n",
       "      <th></th>\n",
       "      <th></th>\n",
       "      <th></th>\n",
       "      <th></th>\n",
       "      <th></th>\n",
       "      <th></th>\n",
       "    </tr>\n",
       "  </thead>\n",
       "  <tbody>\n",
       "    <tr>\n",
       "      <th>66620</th>\n",
       "      <td>2042463</td>\n",
       "      <td>21185048</td>\n",
       "      <td>53.0</td>\n",
       "      <td>M</td>\n",
       "      <td>B</td>\n",
       "      <td>2021-10-09T03:20:00</td>\n",
       "      <td>1200 Block Liverpool ST Pittsburgh, PA 15233</td>\n",
       "      <td>9501 Bench Warrant</td>\n",
       "      <td>1200 Block Liverpool ST Pittsburgh, PA 15233</td>\n",
       "      <td>Manchester</td>\n",
       "      <td>1</td>\n",
       "      <td>2107.0</td>\n",
       "      <td>6.0</td>\n",
       "      <td>1.0</td>\n",
       "      <td>-80.022787</td>\n",
       "      <td>40.455700</td>\n",
       "    </tr>\n",
       "    <tr>\n",
       "      <th>43135</th>\n",
       "      <td>2022225</td>\n",
       "      <td>19178503</td>\n",
       "      <td>55.0</td>\n",
       "      <td>F</td>\n",
       "      <td>B</td>\n",
       "      <td>2019-12-20T09:00:00</td>\n",
       "      <td>6000 Block Woodlawn BL Aliquippa, PA 15001</td>\n",
       "      <td>9015 Failure To Appear/Arrest on Attachment Order</td>\n",
       "      <td>2200 Block Woodward AV Pittsburgh, PA 15226</td>\n",
       "      <td>Brookline</td>\n",
       "      <td>6</td>\n",
       "      <td>1917.0</td>\n",
       "      <td>4.0</td>\n",
       "      <td>5.0</td>\n",
       "      <td>-80.021628</td>\n",
       "      <td>40.401339</td>\n",
       "    </tr>\n",
       "    <tr>\n",
       "      <th>42419</th>\n",
       "      <td>2021701</td>\n",
       "      <td>19243348</td>\n",
       "      <td>22.0</td>\n",
       "      <td>F</td>\n",
       "      <td>B</td>\n",
       "      <td>2019-11-29T18:38:00</td>\n",
       "      <td>Watson ST &amp; Gist ST Pittsburgh, PA 15219</td>\n",
       "      <td>4303 General Lighting Requirements. / 9501 Ben...</td>\n",
       "      <td>Watson ST &amp; Gist ST Pittsburgh, PA 15219</td>\n",
       "      <td>Bluff</td>\n",
       "      <td>2</td>\n",
       "      <td>103.0</td>\n",
       "      <td>6.0</td>\n",
       "      <td>3.0</td>\n",
       "      <td>-79.979479</td>\n",
       "      <td>40.437874</td>\n",
       "    </tr>\n",
       "    <tr>\n",
       "      <th>61445</th>\n",
       "      <td>2037860</td>\n",
       "      <td>21084445</td>\n",
       "      <td>29.0</td>\n",
       "      <td>M</td>\n",
       "      <td>B</td>\n",
       "      <td>2021-05-21T20:31:00</td>\n",
       "      <td>300 Block S Main ST Pittsburgh, PA 15220</td>\n",
       "      <td>2701 Simple Assault. / 2706 Terroristic Threat...</td>\n",
       "      <td>Frankstown AV &amp; N Homewood AV Pittsburgh, PA 1...</td>\n",
       "      <td>Homewood North</td>\n",
       "      <td>5</td>\n",
       "      <td>1302.0</td>\n",
       "      <td>9.0</td>\n",
       "      <td>2.0</td>\n",
       "      <td>-79.896301</td>\n",
       "      <td>40.457405</td>\n",
       "    </tr>\n",
       "    <tr>\n",
       "      <th>59101</th>\n",
       "      <td>2035755</td>\n",
       "      <td>21038762</td>\n",
       "      <td>52.0</td>\n",
       "      <td>M</td>\n",
       "      <td>W</td>\n",
       "      <td>2021-03-07T17:30:00</td>\n",
       "      <td>500 Block Brookline BL Pittsburgh, PA 15226</td>\n",
       "      <td>1543 Driving While Operating Privilege is Susp...</td>\n",
       "      <td>500 Block Brookline BL Pittsburgh, PA 15226</td>\n",
       "      <td>Brookline</td>\n",
       "      <td>6</td>\n",
       "      <td>1919.0</td>\n",
       "      <td>4.0</td>\n",
       "      <td>5.0</td>\n",
       "      <td>-80.023635</td>\n",
       "      <td>40.396221</td>\n",
       "    </tr>\n",
       "  </tbody>\n",
       "</table>\n",
       "</div>"
      ],
      "text/plain": [
       "            PK       CCR   AGE GENDER RACE           ARRESTTIME  \\\n",
       "_id                                                               \n",
       "66620  2042463  21185048  53.0      M    B  2021-10-09T03:20:00   \n",
       "43135  2022225  19178503  55.0      F    B  2019-12-20T09:00:00   \n",
       "42419  2021701  19243348  22.0      F    B  2019-11-29T18:38:00   \n",
       "61445  2037860  21084445  29.0      M    B  2021-05-21T20:31:00   \n",
       "59101  2035755  21038762  52.0      M    W  2021-03-07T17:30:00   \n",
       "\n",
       "                                     ARRESTLOCATION  \\\n",
       "_id                                                   \n",
       "66620  1200 Block Liverpool ST Pittsburgh, PA 15233   \n",
       "43135    6000 Block Woodlawn BL Aliquippa, PA 15001   \n",
       "42419      Watson ST & Gist ST Pittsburgh, PA 15219   \n",
       "61445      300 Block S Main ST Pittsburgh, PA 15220   \n",
       "59101   500 Block Brookline BL Pittsburgh, PA 15226   \n",
       "\n",
       "                                                OFFENSES  \\\n",
       "_id                                                        \n",
       "66620                                 9501 Bench Warrant   \n",
       "43135  9015 Failure To Appear/Arrest on Attachment Order   \n",
       "42419  4303 General Lighting Requirements. / 9501 Ben...   \n",
       "61445  2701 Simple Assault. / 2706 Terroristic Threat...   \n",
       "59101  1543 Driving While Operating Privilege is Susp...   \n",
       "\n",
       "                                        INCIDENTLOCATION INCIDENTNEIGHBORHOOD  \\\n",
       "_id                                                                             \n",
       "66620       1200 Block Liverpool ST Pittsburgh, PA 15233           Manchester   \n",
       "43135        2200 Block Woodward AV Pittsburgh, PA 15226            Brookline   \n",
       "42419           Watson ST & Gist ST Pittsburgh, PA 15219                Bluff   \n",
       "61445  Frankstown AV & N Homewood AV Pittsburgh, PA 1...       Homewood North   \n",
       "59101        500 Block Brookline BL Pittsburgh, PA 15226            Brookline   \n",
       "\n",
       "      INCIDENTZONE  INCIDENTTRACT  COUNCIL_DISTRICT  PUBLIC_WORKS_DIVISION  \\\n",
       "_id                                                                          \n",
       "66620            1         2107.0               6.0                    1.0   \n",
       "43135            6         1917.0               4.0                    5.0   \n",
       "42419            2          103.0               6.0                    3.0   \n",
       "61445            5         1302.0               9.0                    2.0   \n",
       "59101            6         1919.0               4.0                    5.0   \n",
       "\n",
       "               X          Y  \n",
       "_id                          \n",
       "66620 -80.022787  40.455700  \n",
       "43135 -80.021628  40.401339  \n",
       "42419 -79.979479  40.437874  \n",
       "61445 -79.896301  40.457405  \n",
       "59101 -80.023635  40.396221  "
      ]
     },
     "execution_count": 4,
     "metadata": {},
     "output_type": "execute_result"
    }
   ],
   "source": [
    "arrest=pd.read_csv(\"Arrest_Dataset.csv\",index_col=\"_id\")\n",
    "arrest.sample(5)"
   ]
  },
  {
   "cell_type": "code",
   "execution_count": 5,
   "metadata": {},
   "outputs": [
    {
     "name": "stdout",
     "output_type": "stream",
     "text": [
      "         INCIDENTNEIGHBORHOOD  Count\n",
      "0   Central Business District   4439\n",
      "1            South Side Flats   3496\n",
      "2                     Carrick   2351\n",
      "3              East Allegheny   2217\n",
      "4              Homewood South   2090\n",
      "..                        ...    ...\n",
      "93              Regent Square     37\n",
      "94          Central Northside     23\n",
      "95            Mt. Oliver Boro     18\n",
      "96     Troy Hill-Herrs Island      6\n",
      "97    Mt. Oliver Neighborhood      2\n",
      "\n",
      "[98 rows x 2 columns]\n"
     ]
    }
   ],
   "source": [
    "#neighborhood_counts = arrest['INCIDENTNEIGHBORHOOD'].value_counts()\n",
    "\n",
    "#print(\"Count of different values in INCIDENTNEIGHBORHOOD:\")\n",
    "#print(neighborhood_counts)\n",
    "neighborhood_counts = arrest['INCIDENTNEIGHBORHOOD'].value_counts()\n",
    "\n",
    "# Convert the Series to a DataFrame with two columns\n",
    "neighborhood_counts = pd.DataFrame({'INCIDENTNEIGHBORHOOD': neighborhood_counts.index, 'Count': neighborhood_counts.values})\n",
    "\n",
    "# Display the DataFrame\n",
    "print(neighborhood_counts)\n"
   ]
  },
  {
   "cell_type": "code",
   "execution_count": 13,
   "metadata": {},
   "outputs": [
    {
     "name": "stdout",
     "output_type": "stream",
     "text": [
      "         INCIDENTNEIGHBORHOOD  COUNT\n",
      "54            Mt. Oliver Boro      8\n",
      "69              Regent Square     19\n",
      "55              New Homestead     24\n",
      "26              East Carnegie     26\n",
      "61             Outside County     26\n",
      "..                        ...    ...\n",
      "40             Homewood North   1262\n",
      "25             East Allegheny   1266\n",
      "15                    Carrick   1398\n",
      "75           South Side Flats   1934\n",
      "16  Central Business District   2900\n",
      "\n",
      "[94 rows x 2 columns]\n"
     ]
    }
   ],
   "source": [
    "# Filter the dataframe for offenses including \"Theft\" or \"Assault\"\n",
    "filtered_arrest = arrest[arrest['ARRESTTIME'].str.contains('2019|2020|2021|2022|2023', case=False)]\n",
    "\n",
    "# Group by INCIDENTNEIGHBORHOOD and count the occurrences\n",
    "neighborhood_counts2019 = filtered_arrest.groupby('INCIDENTNEIGHBORHOOD').size().reset_index(name='COUNT')\n",
    "\n",
    "neighborhood_counts2019 = neighborhood_counts2019.sort_values('COUNT', ascending=True)\n",
    "\n",
    "# Display the table\n",
    "print(neighborhood_counts2019)\n"
   ]
  },
  {
   "cell_type": "code",
   "execution_count": 14,
   "metadata": {},
   "outputs": [
    {
     "name": "stdout",
     "output_type": "stream",
     "text": [
      "82    Golden Triangle/Civic Arena\n",
      "94              Central Northside\n",
      "96         Troy Hill-Herrs Island\n",
      "97        Mt. Oliver Neighborhood\n",
      "Name: INCIDENTNEIGHBORHOOD, dtype: object\n"
     ]
    }
   ],
   "source": [
    "#crime low to zero after 2019\n",
    "concatenated_df = pd.concat([neighborhood_counts['INCIDENTNEIGHBORHOOD'], neighborhood_counts2019['INCIDENTNEIGHBORHOOD']])\n",
    "\n",
    "\n",
    "only_in_first = concatenated_df.drop_duplicates(keep=False)\n",
    "\n",
    "\n",
    "print(only_in_first)"
   ]
  },
  {
   "cell_type": "code",
   "execution_count": 20,
   "metadata": {},
   "outputs": [
    {
     "data": {
      "text/plain": [
       "<Figure size 1080x432 with 0 Axes>"
      ]
     },
     "metadata": {},
     "output_type": "display_data"
    },
    {
     "data": {
      "image/png": "[encoded data removed]",
      "text/plain": [
       "<Figure size 432x288 with 1 Axes>"
      ]
     },
     "metadata": {
      "needs_background": "light"
     },
     "output_type": "display_data"
    }
   ],
   "source": [
    "import matplotlib.pyplot as plt\n",
    "plt.figure(figsize=(15, 6))\n",
    "neighborhood_counts2019.plot(kind='bar')\n",
    "plt.title('Count of Incidents by Neighborhood')\n",
    "plt.xlabel('Neighborhood')\n",
    "plt.ylabel('Count')\n",
    "plt.xticks(rotation=90)  # Rotating x-axis labels for better readability\n",
    "plt.tight_layout()  # Adjust layout to prevent clipping of labels\n",
    "plt.show()"
   ]
  },
  {
   "cell_type": "code",
   "execution_count": 19,
   "metadata": {},
   "outputs": [
    {
     "data": {
      "image/png": "[encoded data removed]",
      "text/plain": [
       "<Figure size 432x288 with 1 Axes>"
      ]
     },
     "metadata": {
      "needs_background": "light"
     },
     "output_type": "display_data"
    }
   ],
   "source": [
    "Crime_Count = [0,0,0,0,8,19,24,26,26]\n",
    "index = [\"Golden Triangle/Civic Arena\",\"Central Northside\",\"Troy Hill-Herrs Island\",\"Mt. Oliver Neighborhood\",\"Mt. Oliver Boro\",\"Regent Square\",\"New Homestead\",\"East Carnegie\",\"Outside County\"]\n",
    "df = pd.DataFrame({'Crime Count': Crime_Count}, index=index)\n",
    "ax = df.plot.bar(rot=90)"
   ]
  },
  {
   "cell_type": "markdown",
   "metadata": {},
   "source": [
    "#### **4. Word_Analyst**"
   ]
  },
  {
   "cell_type": "markdown",
   "metadata": {},
   "source": [
    "* We can find from the table that Central Business District, Central Business District, South Side Flats, Carrick, East Allegheny, Homewood North still stay at the top even though we shrink the time scope. They are no doubt the most dangerous district.  \n",
    "* 4 district crime rate low to 0:\n",
    "    * Golden Triangle/Civic Arena\n",
    "    * Central Northside\n",
    "    * Troy Hill-Herrs Island\n",
    "    * Mt. Oliver Neighborhood\n",
    "*They are no doubt the best communities to live \n",
    "* However, It doesn't mean several others can't be the best. \n",
    "* Compare the smallest 5 crime rate:\n",
    "* Though Regent Square (19), Mt. Oliver Boro (8) also have unignorable crime rate, records in this table are only from 2016-2023. It decreases much. "
   ]
  },
  {
   "cell_type": "code",
   "execution_count": null,
   "metadata": {},
   "outputs": [],
   "source": []
  }
 ],
 "metadata": {
  "kernelspec": {
   "display_name": "Python 3",
   "language": "python",
   "name": "python3"
  },
  "language_info": {
   "codemirror_mode": {
    "name": "ipython",
    "version": 3
   },
   "file_extension": ".py",
   "mimetype": "text/x-python",
   "name": "python",
   "nbconvert_exporter": "python",
   "pygments_lexer": "ipython3",
   "version": "3.8.3"
  }
 },
 "nbformat": 4,
 "nbformat_minor": 4
}
