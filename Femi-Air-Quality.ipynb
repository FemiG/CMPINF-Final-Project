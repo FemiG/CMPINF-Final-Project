{
 "cells": [
  {
   "cell_type": "markdown",
   "metadata": {},
   "source": [
    "I will be basing which neighbourhood in Pittsburgh is best on Air Quality."
   ]
  },
  {
   "cell_type": "code",
   "execution_count": 3,
   "metadata": {},
   "outputs": [],
   "source": [
    "import pandas as pd\n",
    "import numpy as np\n",
    "%matplotlib inline\n",
    "import matplotlib.pyplot as plt\n",
    "\n",
    "Air_Quality = pd.read_csv(\"Allegheny County Air Quality - Daily.csv\", index_col=\"_id\")"
   ]
  },
  {
   "cell_type": "code",
   "execution_count": 4,
   "metadata": {},
   "outputs": [
    {
     "name": "stdout",
     "output_type": "stream",
     "text": [
      "             date                   site parameter  index_value description\n",
      "_id                                                                        \n",
      "77056  2024-02-29        Lawrenceville 2        CO            3        Good\n",
      "77057  2024-02-29          South Fayette     OZONE           36        Good\n",
      "77058  2024-02-29              Liberty 2  PM10_640           17        Good\n",
      "77059  2024-02-29         North Braddock  PM10_640           19        Good\n",
      "77060  2024-02-29             Pittsburgh  PM10_640           15        Good\n",
      "77061  2024-02-29      Harrison Township       NO2           20        Good\n",
      "77062  2024-02-29                Liberty       SO2           17        Good\n",
      "77063  2024-02-29         North Braddock        CO            7        Good\n",
      "77064  2024-02-29           Parkway East        CO            9        Good\n",
      "77065  2024-02-29           Parkway East       NO2           29        Good\n",
      "77066  2024-02-29      Harrison Township     OZONE           31        Good\n",
      "77067  2024-02-29          Lawrenceville     OZONE           33        Good\n",
      "77068  2024-02-29  Glassport High Street      PM10           11        Good\n",
      "77069  2024-02-29                 Avalon  PM25_640           19        Good\n",
      "77070  2024-02-29              Liberty 2  PM25_640           20        Good\n",
      "77071  2024-02-29         North Braddock       SO2            1        Good\n",
      "77072  2024-02-29             Pittsburgh   NO2_500           31        Good\n",
      "77073  2024-02-29         North Braddock  PM25_640           18        Good\n",
      "77074  2024-02-29           Parkway East  PM25_640           18        Good\n",
      "77075  2024-02-29        Lawrenceville 2       SO2            0        Good\n",
      "77076  2024-02-29             Pittsburgh  PM25_640           22        Good\n",
      "77077  2024-02-29               Clairton  PM25_640           15        Good\n"
     ]
    }
   ],
   "source": [
    "date_query_mask = Air_Quality['date'].str.contains('2024-02-29')\n",
    "date_sample = Air_Quality[date_query_mask].iloc[0:60, 0:5]\n",
    "print(date_sample)"
   ]
  },
  {
   "cell_type": "code",
   "execution_count": 90,
   "metadata": {},
   "outputs": [
    {
     "data": {
      "image/png": "[encoded data removed]",
      "text/plain": [
       "<Figure size 432x288 with 1 Axes>"
      ]
     },
     "metadata": {
      "needs_background": "light"
     },
     "output_type": "display_data"
    }
   ],
   "source": [
    "# Assuming Air_Quality is your DataFrame containing air quality data\n",
    "Lawrenceville = [1, 22, 2, 0, 0]\n",
    "North_Braddock = [3, 0, 2, 30, 12]\n",
    "Pittsburgh = [0, 0, 0, 44, 16] \n",
    "Liberty = [7, 0, 0, 29, 11]\n",
    "index = ['SO2', 'OZONE', 'CO','PM25', 'PM10']\n",
    "df = pd.DataFrame({'Lawrenceville': Lawrenceville,'North Braddock': North_Braddock, 'Pittsburgh':Pittsburgh, 'Liberty':Liberty}, index=index)\n",
    "ax = df.plot.bar(rot=1)"
   ]
  },
  {
   "cell_type": "markdown",
   "metadata": {},
   "source": [
    "With the locations listed above Lawrenceville seems like the best neighbourhood to reside in. Since it has the lowest Sulfur Dioxide presence as well as Carbon Monoxide and Ozone in all the areas recorded. With this information it can be concluded that Lawrenceville has the best air quality in the city and thus the best place to live in the city. \n",
    "North Braddock comes in a close second having the 2nd lowest Sulfur Dioxide and Particulate Matter(10 micrometers) in city and tying with Lawrenceville for the lowest Carbon Monoxide levels. \n",
    "Sulfur Dioxide, Ozone, and Carbon Monoxide all have negative effects on the body when inhaled. CO can cause headaches, diziness, and loss of consciousness if breathed in for long periods of time as well as cause brain damage for infants and the elderly. Sulfur Dioxide can cause similar symptoms, it also damges the local envirnoment in high enough concentrations causing acid rain to fall and killing off flora. Ozone also causes similar problems to human health like lung irritation and triggering asthma attacks. Particulate Matter's, or PM, potential for damage is in relation to it size, the smaller the PMs the harmful they are to you health as they can cause small tears in your respiratory system or even find ways into your blood stream.\n",
    "The worst area to live in would be Liberty as it seems to have the highest concentration in all the toxic gases measured aside from OZONE and SO2, although that's due to a lack of data."
   ]
  },
  {
   "cell_type": "code",
   "execution_count": 98,
   "metadata": {},
   "outputs": [
    {
     "name": "stdout",
     "output_type": "stream",
     "text": [
      "             date                   site parameter  index_value description\n",
      "_id                                                                        \n",
      "76286  2024-01-30         North Braddock        CO            6        Good\n",
      "76287  2024-01-30           Parkway East        CO            4        Good\n",
      "76288  2024-01-30      Harrison Township     OZONE           24        Good\n",
      "76289  2024-01-30          South Fayette     OZONE           23        Good\n",
      "76290  2024-01-30             Pittsburgh  PM10_640           11        Good\n",
      "76291  2024-01-30         North Braddock  PM25_640           24        Good\n",
      "76292  2024-01-30           Parkway East  PM25_640           19        Good\n",
      "76293  2024-01-30        Lawrenceville 2       SO2            2        Good\n",
      "76294  2024-01-30          Lawrenceville     OZONE           19        Good\n",
      "76295  2024-01-30  Glassport High Street      PM10            5        Good\n",
      "76296  2024-01-30                 Avalon  PM25_640           24        Good\n",
      "76297  2024-01-30                Liberty       SO2            1        Good\n",
      "76298  2024-01-30        Lawrenceville 2        CO            4        Good\n",
      "76299  2024-01-30      Harrison Township       NO2           17        Good\n",
      "76300  2024-01-30           Parkway East       NO2           14        Good\n",
      "76301  2024-01-30              Liberty 2  PM25_640           21        Good\n",
      "76302  2024-01-30         North Braddock       SO2            1        Good\n",
      "76303  2024-01-30             Pittsburgh   NO2_500           23        Good\n",
      "76304  2024-01-30              Liberty 2  PM10_640            6        Good\n",
      "76305  2024-01-30         North Braddock  PM10_640           10        Good\n",
      "76306  2024-01-30             Pittsburgh  PM25_640           33        Good\n",
      "76307  2024-01-30               Clairton  PM25_640           20        Good\n"
     ]
    }
   ],
   "source": [
    "date_query_mask = Air_Quality['date'].str.contains('2024-01-30')\n",
    "date_sample = Air_Quality[date_query_mask].iloc[0:60, 0:5]\n",
    "print(date_sample)"
   ]
  },
  {
   "cell_type": "code",
   "execution_count": 91,
   "metadata": {},
   "outputs": [
    {
     "data": {
      "image/png": "[encoded data removed]",
      "text/plain": [
       "<Figure size 432x288 with 1 Axes>"
      ]
     },
     "metadata": {
      "needs_background": "light"
     },
     "output_type": "display_data"
    }
   ],
   "source": [
    "Lawrenceville = [2, 19, 4, 0, 0]\n",
    "North_Braddock = [1, 0, 6, 24, 10]\n",
    "Pittsburgh = [0, 0, 0, 33, 11] \n",
    "Liberty = [1, 0, 0, 21, 6]\n",
    "index = ['SO2', 'OZONE', 'CO','PM25', 'PM10']\n",
    "df = pd.DataFrame({'Lawrenceville': Lawrenceville,'North Braddock': North_Braddock, 'Pittsburgh':Pittsburgh, 'Liberty':Liberty}, index=index)\n",
    "ax = df.plot.bar(rot=1)"
   ]
  },
  {
   "cell_type": "markdown",
   "metadata": {},
   "source": [
    "With the locations listed above Lawrenceville seems like the best neighbourhood to reside in. Since it has the second lowest Sulfur Dioxide presence as well as the lowest Carbon Monoxide and Ozone in all the areas recorded. With this information it can be concluded that Lawrenceville has the best air quality in the city and thus the best place to live in the city. \n",
    "North Braddock comes in a close second having the lowest Sulfur Dioxide and Particulate Matter(10 micrometers) in city and tying with Lawrenceville for the lowest Carbon Monoxide levels. \n",
    "The worst area to live in would be Pittsburgh as it seems to have the highest concentration in all the toxic gases measured aside from OZONE and SO2, although that's due to a lack of data."
   ]
  },
  {
   "cell_type": "code",
   "execution_count": 97,
   "metadata": {},
   "outputs": [
    {
     "name": "stdout",
     "output_type": "stream",
     "text": [
      "             date                   site parameter  index_value description\n",
      "_id                                                                        \n",
      "75527  2023-12-30         North Braddock        CO            2        Good\n",
      "75528  2023-12-30           Parkway East        CO            5        Good\n",
      "75529  2023-12-30      Harrison Township     OZONE           21        Good\n",
      "75530  2023-12-30          South Fayette     OZONE           23        Good\n",
      "75531  2023-12-30  Glassport High Street      PM10            5        Good\n",
      "75532  2023-12-30                 Avalon  PM25_640           21        Good\n",
      "75533  2023-12-30                Liberty       SO2            0        Good\n",
      "75534  2023-12-30             Pittsburgh  PM10_640           10        Good\n",
      "75535  2023-12-30         North Braddock  PM25_640           22        Good\n",
      "75536  2023-12-30           Parkway East  PM25_640           22        Good\n",
      "75537  2023-12-30        Lawrenceville 2       SO2            1        Good\n",
      "75538  2023-12-30        Lawrenceville 2        CO            2        Good\n",
      "75539  2023-12-30          Lawrenceville     OZONE           19        Good\n",
      "75540  2023-12-30              Liberty 2  PM10_640            6        Good\n",
      "75541  2023-12-30         North Braddock  PM10_640            7        Good\n",
      "75542  2023-12-30              Liberty 2  PM25_640           20        Good\n",
      "75543  2023-12-30      Harrison Township       NO2            5        Good\n",
      "75544  2023-12-30           Parkway East       NO2            8        Good\n",
      "75545  2023-12-30             Pittsburgh   NO2_500            8        Good\n",
      "75546  2023-12-30         North Braddock       SO2            0        Good\n",
      "75547  2023-12-30             Pittsburgh  PM25_640           29        Good\n",
      "75548  2023-12-30               Clairton  PM25_640           20        Good\n"
     ]
    }
   ],
   "source": [
    "date_query_mask = Air_Quality['date'].str.contains('2023-12-30')\n",
    "date_sample = Air_Quality[date_query_mask].iloc[0:60, 0:5]\n",
    "print(date_sample)"
   ]
  },
  {
   "cell_type": "code",
   "execution_count": 5,
   "metadata": {},
   "outputs": [
    {
     "data": {
      "image/png": "[encoded data removed]",
      "text/plain": [
       "<Figure size 432x288 with 1 Axes>"
      ]
     },
     "metadata": {
      "needs_background": "light"
     },
     "output_type": "display_data"
    }
   ],
   "source": [
    "Lawrenceville = [1, 19, 2, 0, 0]\n",
    "North_Braddock = [0, 0, 2, 22, 7]\n",
    "Pittsburgh = [0, 0, 0, 29, 10] \n",
    "Liberty = [0, 0, 0, 20, 6]\n",
    "index = ['SO2', 'OZONE', 'CO','PM25', 'PM10']\n",
    "df = pd.DataFrame({'Lawrenceville': Lawrenceville,'North Braddock': North_Braddock, 'Pittsburgh':Pittsburgh, 'Liberty':Liberty}, index=index)\n",
    "ax = df.plot.bar(rot=1)"
   ]
  },
  {
   "cell_type": "markdown",
   "metadata": {},
   "source": [
    "With the locations listed above Lawrenceville seems like the best neighbourhood to reside in. Since it has the second lowest Sulfur Dioxide presence as well as the lowest Carbon Monoxide and Ozone in all the areas recorded. With this information it can be concluded that Lawrenceville has the best air quality in the city and thus the best place to live in the city. \n",
    "North Braddock comes in a close second having the lowest Sulfur Dioxide and and second lowest Particulate Matter(10 micrometers) in city and tying with Lawrenceville for the lowest Carbon Monoxide levels.\n",
    "The worst area to live in would be the city of Pittsburgh as it seems to have the highest concentration in all the toxic gases measured aside from OZONE, although that's due to a lack of data."
   ]
  },
  {
   "cell_type": "code",
   "execution_count": 96,
   "metadata": {},
   "outputs": [
    {
     "name": "stdout",
     "output_type": "stream",
     "text": [
      "             date                   site parameter  index_value description\n",
      "_id                                                                        \n",
      "74796  2023-11-30      Harrison Township       NO2           26        Good\n",
      "74797  2023-11-30  Glassport High Street      PM10           14        Good\n",
      "74798  2023-11-30         North Braddock  PM25_640           53    Moderate\n",
      "74799  2023-11-30                Liberty       SO2           46        Good\n",
      "74800  2023-11-30        Lawrenceville 2        CO            5        Good\n",
      "74801  2023-11-30           Parkway East       NO2           25        Good\n",
      "74802  2023-11-30      Harrison Township     OZONE           35        Good\n",
      "74803  2023-11-30          Lawrenceville     OZONE           35        Good\n",
      "74804  2023-11-30                 Avalon  PM25_640           33        Good\n",
      "74805  2023-11-30         North Braddock       SO2           30        Good\n",
      "74806  2023-11-30             Pittsburgh   NO2_500           34        Good\n",
      "74807  2023-11-30              Liberty 2  PM10_640           31        Good\n",
      "74808  2023-11-30              Liberty 2  PM25_640           68    Moderate\n",
      "74809  2023-11-30           Parkway East  PM25_640           37        Good\n",
      "74810  2023-11-30         North Braddock        CO           14        Good\n",
      "74811  2023-11-30           Parkway East        CO           11        Good\n",
      "74812  2023-11-30          South Fayette     OZONE           40        Good\n",
      "74813  2023-11-30         North Braddock  PM10_640           30        Good\n",
      "74814  2023-11-30             Pittsburgh  PM10_640           17        Good\n",
      "74815  2023-11-30        Lawrenceville 2       SO2            3        Good\n",
      "74816  2023-11-30             Pittsburgh  PM25_640           40        Good\n",
      "74817  2023-11-30               Clairton  PM25_640           31        Good\n"
     ]
    }
   ],
   "source": [
    "date_query_mask = Air_Quality['date'].str.contains('2023-11-30')\n",
    "date_sample = Air_Quality[date_query_mask].iloc[0:60, 0:5]\n",
    "print(date_sample)"
   ]
  },
  {
   "cell_type": "code",
   "execution_count": 93,
   "metadata": {},
   "outputs": [
    {
     "data": {
      "image/png": "[encoded data removed]",
      "text/plain": [
       "<Figure size 432x288 with 1 Axes>"
      ]
     },
     "metadata": {
      "needs_background": "light"
     },
     "output_type": "display_data"
    }
   ],
   "source": [
    "Lawrenceville = [3, 35, 5, 0, 0]\n",
    "North_Braddock = [30, 0, 14, 53, 30]\n",
    "Pittsburgh = [0, 0, 0, 40, 17] \n",
    "Liberty = [46, 0, 0, 68, 31]\n",
    "index = ['SO2', 'OZONE', 'CO','PM25', 'PM10']\n",
    "df = pd.DataFrame({'Lawrenceville': Lawrenceville,'North Braddock': North_Braddock, 'Pittsburgh':Pittsburgh, 'Liberty':Liberty}, index=index)\n",
    "ax = df.plot.bar(rot=1)"
   ]
  },
  {
   "cell_type": "markdown",
   "metadata": {},
   "source": [
    "With the locations listed above Lawrenceville seems like the best neighbourhood to reside in. Since it has the lowest Sulfur Dioxide, Carbon Monoxide and Ozone in all the areas recorded. With this information it can be concluded that Lawrenceville has the best air quality in the city and thus the best place to live in the city. \n",
    "North Braddock has fallen in the rankings due to its rather high Particulate Matter presence; with hardly any neighbourhoods in the city's area coming close to Lawrencevilles air quality. The likely cause of the sudden increase in pollutants in the area is likely due to some industrial accident. The only area left relatively unaffected is core area of Pittsburgh.\n",
    "The worst area to live in would be Liberty as it seems to have the highest concentration in all the toxic gases measured aside from OZONE, although that's due to a lack of data."
   ]
  },
  {
   "cell_type": "code",
   "execution_count": 95,
   "metadata": {},
   "outputs": [
    {
     "name": "stdout",
     "output_type": "stream",
     "text": [
      "             date                   site parameter  index_value description\n",
      "_id                                                                        \n",
      "74086  2023-10-30             Pittsburgh   NO2_500            8        Good\n",
      "74087  2023-10-30              Liberty 2  PM10_640            9        Good\n",
      "74088  2023-10-30         North Braddock  PM10_640            7        Good\n",
      "74089  2023-10-30         North Braddock        CO            3        Good\n",
      "74090  2023-10-30           Parkway East        CO            5        Good\n",
      "74091  2023-10-30      Harrison Township     OZONE           22        Good\n",
      "74092  2023-10-30          South Fayette     OZONE           22        Good\n",
      "74093  2023-10-30             Pittsburgh  PM10_640            6        Good\n",
      "74094  2023-10-30        Lawrenceville 2       SO2            1        Good\n",
      "74095  2023-10-30        Lawrenceville 2        CO            3        Good\n",
      "74096  2023-10-30      Harrison Township       NO2            8        Good\n",
      "74097  2023-10-30           Parkway East       NO2            8        Good\n",
      "74098  2023-10-30         North Braddock       SO2            0        Good\n",
      "74099  2023-10-30          Lawrenceville     OZONE           21        Good\n",
      "74100  2023-10-30  Glassport High Street      PM10            4        Good\n",
      "74101  2023-10-30                Liberty       SO2            4        Good\n",
      "74102  2023-10-30                 Avalon  PM25_640           10        Good\n",
      "74103  2023-10-30         North Braddock  PM25_640           12        Good\n",
      "74104  2023-10-30           Parkway East  PM25_640           13        Good\n",
      "74105  2023-10-30              Liberty 2  PM25_640           13        Good\n",
      "74106  2023-10-30               Clairton  PM25_640           10        Good\n",
      "74107  2023-10-30             Pittsburgh  PM25_640           11        Good\n"
     ]
    }
   ],
   "source": [
    "date_query_mask = Air_Quality['date'].str.contains('2023-10-30')\n",
    "date_sample = Air_Quality[date_query_mask].iloc[0:60, 0:5]\n",
    "print(date_sample)"
   ]
  },
  {
   "cell_type": "code",
   "execution_count": 101,
   "metadata": {},
   "outputs": [
    {
     "data": {
      "image/png": "[encoded data removed]",
      "text/plain": [
       "<Figure size 432x288 with 1 Axes>"
      ]
     },
     "metadata": {
      "needs_background": "light"
     },
     "output_type": "display_data"
    }
   ],
   "source": [
    "Lawrenceville = [1, 21, 3, 0, 0]\n",
    "North_Braddock = [0, 0, 3, 12, 7]\n",
    "Pittsburgh = [0, 0, 0, 11, 6] \n",
    "Liberty = [4, 0, 0, 13, 9]\n",
    "index = ['SO2', 'OZONE', 'CO','PM25', 'PM10']\n",
    "df = pd.DataFrame({'Lawrenceville': Lawrenceville,'North Braddock': North_Braddock, 'Pittsburgh':Pittsburgh, 'Liberty':Liberty}, index=index)\n",
    "ax = df.plot.bar(rot=1)"
   ]
  },
  {
   "cell_type": "markdown",
   "metadata": {},
   "source": [
    "With the locations listed above Lawrenceville seems like the best neighbourhood to reside in. Since it has the second lowest Sulfur Dioxide presence as well as the lowest Carbon Monoxide and Ozone in all the areas recorded. With this information it can be concluded that Lawrenceville has the best air quality in the city and thus the best place to live in the city. \n",
    "North Braddock comes in a close second having the lowest Sulfur Dioxide and and second lowest Particulate Matter(10 micrometers) in city and tying with Lawrenceville for the lowest Carbon Monoxide levels. \n",
    "The worst area to live in would be Liberty as it seems to have the highest concentration in all the toxic gases measured aside from OZONE, although that's due to a lack of data."
   ]
  }
 ],
 "metadata": {
  "kernelspec": {
   "display_name": "Python 3",
   "language": "python",
   "name": "python3"
  },
  "language_info": {
   "codemirror_mode": {
    "name": "ipython",
    "version": 3
   },
   "file_extension": ".py",
   "mimetype": "text/x-python",
   "name": "python",
   "nbconvert_exporter": "python",
   "pygments_lexer": "ipython3",
   "version": "3.8.3"
  }
 },
 "nbformat": 4,
 "nbformat_minor": 4
}
